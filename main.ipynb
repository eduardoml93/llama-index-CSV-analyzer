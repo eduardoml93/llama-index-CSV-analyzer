{
 "cells": [
  {
   "cell_type": "code",
   "execution_count": null,
   "id": "166eda6d",
   "metadata": {},
   "outputs": [],
   "source": [
    "import os\n",
    "import gradio as gr\n",
    "import pandas as pd\n",
    "from llama_index.llms.groq import Groq\n",
    "\n",
    "# API KEY do GROQ\n",
    "# https://console.groq.com/keys\n",
    "key = \"YOUR KEY\"\n",
    "\n",
    "# Configuração do modelo\n",
    "llm = Groq(model=\"llama3-70b-8192\", api_key=key)\n",
    "\n",
    "def analisar_csv(csv_file, pergunta):\n",
    "    try:\n",
    "        df = pd.read_csv(csv_file.name)\n",
    "    except Exception as e:\n",
    "        return f\"Erro ao ler CSV: {e}\"\n",
    "\n",
    "    # Converte o CSV em texto\n",
    "    csv_text = df.to_csv(index=False)\n",
    "\n",
    "    # Prompt para o modelo\n",
    "    prompt = f\"Você é um assistente de análise de dados. Baseando-se nos seguintes dados:\\n\\n{csv_text}\\n\\nResponda à pergunta: {pergunta}\"\n",
    "\n",
    "    try:\n",
    "        # Usar o método correto\n",
    "        resposta = llm.complete(prompt)\n",
    "        return resposta\n",
    "    except Exception as e:\n",
    "        return f\"Erro ao processar a pergunta: {e}\"\n",
    "\n",
    "interface = gr.Interface(\n",
    "    fn=analisar_csv,\n",
    "    inputs=[\n",
    "        gr.File(label=\"Escolha seu arquivo CSV\"),\n",
    "        gr.Textbox(label=\"Pergunta sobre os dados\")\n",
    "    ],\n",
    "    outputs=gr.Textbox(label=\"Resposta\"),\n",
    "    title=\"Analisador de Dados CSV com LlamaIndex + GROQ\",\n",
    "    description=\"Faça upload de um CSV e pergunte o que quiser sobre os dados.\"\n",
    ")\n",
    "\n",
    "interface.launch()\n"
   ]
  }
 ],
 "metadata": {
  "language_info": {
   "name": "python"
  }
 },
 "nbformat": 4,
 "nbformat_minor": 5
}
