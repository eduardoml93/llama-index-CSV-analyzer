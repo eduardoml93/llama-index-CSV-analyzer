{
 "cells": [
  {
   "cell_type": "code",
   "execution_count": null,
   "id": "166eda6d",
   "metadata": {},
   "outputs": [
    {
     "name": "stdout",
     "output_type": "stream",
     "text": [
      "* Running on local URL:  http://127.0.0.1:7863\n",
      "* To create a public link, set `share=True` in `launch()`.\n"
     ]
    },
    {
     "data": {
      "text/html": [
       "<div><iframe src=\"http://127.0.0.1:7863/\" width=\"100%\" height=\"500\" allow=\"autoplay; camera; microphone; clipboard-read; clipboard-write;\" frameborder=\"0\" allowfullscreen></iframe></div>"
      ],
      "text/plain": [
       "<IPython.core.display.HTML object>"
      ]
     },
     "metadata": {},
     "output_type": "display_data"
    },
    {
     "data": {
      "text/plain": []
     },
     "execution_count": 7,
     "metadata": {},
     "output_type": "execute_result"
    }
   ],
   "source": [
    "import os\n",
    "import gradio as gr\n",
    "import pandas as pd\n",
    "from llama_index.llms.groq import Groq\n",
    "\n",
    "# API KEY do GROQ\n",
    "key = \"YOUR KEY\"\n",
    "\n",
    "# Configuração do modelo\n",
    "llm = Groq(model=\"llama3-70b-8192\", api_key=key)\n",
    "\n",
    "# Função para mostrar o preview do CSV\n",
    "def preview_csv(csv_file):\n",
    "    try:\n",
    "        df = pd.read_csv(csv_file.name)\n",
    "        preview = df.head()  # pega as 5 primeiras linhas\n",
    "        return preview, df  # retornamos o df completo para usar na próxima etapa\n",
    "    except Exception as e:\n",
    "        return pd.DataFrame(), None  # retorna DataFrame vazio em caso de erro\n",
    "\n",
    "# Função para analisar os dados com base na pergunta\n",
    "def analisar_pergunta(df, pergunta):\n",
    "    if df is None:\n",
    "        return \"Nenhum CSV carregado!\"\n",
    "    \n",
    "    csv_text = df.to_csv(index=False)\n",
    "    prompt = f\"Você é um assistente de análise de dados. Baseando-se nos seguintes dados:\\n\\n{csv_text}\\n\\nResponda à pergunta: {pergunta}\"\n",
    "\n",
    "    try:\n",
    "        resposta = llm.complete(prompt)\n",
    "        return resposta\n",
    "    except Exception as e:\n",
    "        return f\"Erro ao processar a pergunta: {e}\"\n",
    "\n",
    "# Interface Gradio\n",
    "with gr.Blocks() as demo:\n",
    "    gr.Markdown(\"## Analisador de Dados CSV com LlamaIndex + GROQ\")\n",
    "    \n",
    "    with gr.Row():\n",
    "        csv_input = gr.File(label=\"Escolha seu arquivo CSV\")\n",
    "        preview_output = gr.Dataframe(headers=None, label=\"Preview do CSV (5 primeiras linhas)\")\n",
    "\n",
    "    df_state = gr.State()  # Armazena o DataFrame completo\n",
    "\n",
    "    # Atualiza o preview quando o CSV é carregado\n",
    "    csv_input.upload(fn=preview_csv, inputs=csv_input, outputs=[preview_output, df_state])\n",
    "\n",
    "    gr.Markdown(\"### Faça sua pergunta sobre os dados:\")\n",
    "    pergunta_input = gr.Textbox(label=\"Pergunta\")\n",
    "    resposta_output = gr.Textbox(label=\"Resposta\")\n",
    "\n",
    "    # Gera a resposta quando o usuário clica no botão\n",
    "    btn = gr.Button(\"Perguntar\")\n",
    "    btn.click(fn=analisar_pergunta, inputs=[df_state, pergunta_input], outputs=resposta_output)\n",
    "\n",
    "demo.launch()\n"
   ]
  }
 ],
 "metadata": {
  "kernelspec": {
   "display_name": "Python 3",
   "language": "python",
   "name": "python3"
  },
  "language_info": {
   "codemirror_mode": {
    "name": "ipython",
    "version": 3
   },
   "file_extension": ".py",
   "mimetype": "text/x-python",
   "name": "python",
   "nbconvert_exporter": "python",
   "pygments_lexer": "ipython3",
   "version": "3.12.6"
  }
 },
 "nbformat": 4,
 "nbformat_minor": 5
}
